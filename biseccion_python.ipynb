{
 "cells": [
  {
   "cell_type": "markdown",
   "id": "d59b4b83",
   "metadata": {},
   "source": [
    "Importaciones"
   ]
  },
  {
   "cell_type": "code",
   "execution_count": 4,
   "id": "e2a89107",
   "metadata": {},
   "outputs": [],
   "source": [
    "def biseccion(relacion,a,b,tol,N0):\n",
    "    #paso 1\n",
    "    i=1\n",
    "    FA=relacion(a)\n",
    "    #paso 2\n",
    "    while i<=N0:\n",
    "        #Paso 3\n",
    "        p=(a+b)/2\n",
    "        FP=relacion(p)\n",
    "        #Paso 4\n",
    "        if FP==0 or (b-a)/2<tol:\n",
    "            return p,i\n",
    "        #paso 5\n",
    "        i += 1\n",
    "        #Paso 6\n",
    "        if FA*FP>0:\n",
    "            a=p\n",
    "            FA=FP\n",
    "        else:\n",
    "            b=p\n",
    "    return \"Método culminó despues de {} iteraciones con valor {}\".format(N0,p)"
   ]
  },
  {
   "cell_type": "code",
   "execution_count": 5,
   "id": "25e9686a",
   "metadata": {},
   "outputs": [],
   "source": [
    "#definir la función que se va a pasar\n",
    "relacion = lambda x: x**3+4*x**2-10"
   ]
  },
  {
   "cell_type": "code",
   "execution_count": 6,
   "id": "986c169e",
   "metadata": {},
   "outputs": [
    {
     "data": {
      "text/plain": [
       "'Método culminó despues de 13 iteraciones con valor 1.3651123046875'"
      ]
     },
     "execution_count": 6,
     "metadata": {},
     "output_type": "execute_result"
    }
   ],
   "source": [
    "biseccion(relacion,1,2,1e-6,13)"
   ]
  },
  {
   "cell_type": "code",
   "execution_count": null,
   "id": "4524da30",
   "metadata": {},
   "outputs": [],
   "source": []
  }
 ],
 "metadata": {
  "kernelspec": {
   "display_name": "Python 3",
   "language": "python",
   "name": "python3"
  },
  "language_info": {
   "codemirror_mode": {
    "name": "ipython",
    "version": 3
   },
   "file_extension": ".py",
   "mimetype": "text/x-python",
   "name": "python",
   "nbconvert_exporter": "python",
   "pygments_lexer": "ipython3",
   "version": "3.9.5"
  },
  "vscode": {
   "interpreter": {
    "hash": "9ada32eea83c06c6418fd9dacb5580edb909b082032d188eabcfd6a2b68a7cd7"
   }
  }
 },
 "nbformat": 4,
 "nbformat_minor": 5
}
